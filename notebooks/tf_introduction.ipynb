{
 "cells": [
  {
   "cell_type": "markdown",
   "metadata": {},
   "source": [
    "# Starting with Tensorflow\n",
    "\n",
    "## Tensors\n",
    "Tensors sind sie primäre Datennstruktur die TensorFlow nutz um auf dem sogenannten \"Computational Graph\" zu operieren"
   ]
  },
  {
   "cell_type": "markdown",
   "metadata": {},
   "source": []
  },
  {
   "cell_type": "code",
   "execution_count": 1,
   "metadata": {},
   "outputs": [],
   "source": [
    "import tensorflow as tf"
   ]
  },
  {
   "cell_type": "markdown",
   "metadata": {},
   "source": [
    "There a two basic datatypes in tensorflow, to comnpute data. Placeholders and variables. While placeholders are just placeholders for the data will be processed , variables are the paramters TensorFlow keeps track, of how to changge these to optimize the algorithm."
   ]
  },
  {
   "cell_type": "code",
   "execution_count": 2,
   "metadata": {},
   "outputs": [],
   "source": [
    "#Declaration and initialization of a variable\n",
    "my_var = tf.Variable(tf.zeros([2,3]))\n",
    "sess = tf.Session()\n",
    "initialize_op = tf.global_variables_initializer ()\n",
    "sess.run(initialize_op)\n",
    "\n",
    "#Declaration of a placeholder which process matrices of shape(2,2)\n",
    "x = tf.placeholder(tf.float32, shape=[2,2])"
   ]
  },
  {
   "cell_type": "code",
   "execution_count": 3,
   "metadata": {},
   "outputs": [],
   "source": [
    "row_dim, col_dim = 10, 10 \n",
    "#Create zero filles tensor\n",
    "zero_tsr = tf.zeros([row_dim, col_dim])\n",
    "\n",
    "#Create one filled tensor\n",
    "ones_tsr = tf.ones([row_dim, col_dim])\n",
    "\n",
    "#Creating a tensor with a constant filled\n",
    "filles_tsr = tf.fill([row_dim, col_dim], 42)\n",
    "\n",
    "# Creating a tensor out of an existing constant.\n",
    "constant_tsr = tf.constant([1,2,3])"
   ]
  },
  {
   "cell_type": "markdown",
   "metadata": {},
   "source": [
    "### Create a nested gate:\n",
    "f(x) = a * x + b\n",
    "```\n",
    " a --|  \n",
    "     |-- (multiply)--|  \n",
    " x --|               |-- (add) --> output  \n",
    "                 b --|  \n",
    "```\n",
    "             \n"
   ]
  },
  {
   "cell_type": "code",
   "execution_count": 8,
   "metadata": {},
   "outputs": [
    {
     "name": "stdout",
     "output_type": "stream",
     "text": [
      "WARNING:tensorflow:From /home/lukas/Projects/Projektarbeit_WS18/venv/lib/python3.5/site-packages/tensorflow/python/util/tf_should_use.py:189: initialize_all_variables (from tensorflow.python.ops.variables) is deprecated and will be removed after 2017-03-02.\n",
      "Instructions for updating:\n",
      "Use `tf.global_variables_initializer` instead.\n"
     ]
    }
   ],
   "source": [
    "# Start a New Graph Session\n",
    "#ops.reset_default_graph()\n",
    "sess = tf.Session()\n",
    "# Declaring two Variables. Variables are the parameters the iptimizer can  fine tune\n",
    "a = tf.Variable(tf.constant(1.))\n",
    "b = tf.Variable(tf.constant(1.))\n",
    "\n",
    "x_val = 5.\n",
    "#Declaring a placeholder. Placeholder are there to feed data into the algorithms\n",
    "x_data = tf.placeholder(dtype=tf.float32)\n",
    "\n",
    "two_gate = tf.add(tf.multiply(a, x_data), b)\n",
    "\n",
    "# Declare the loss function as the difference between\n",
    "# the output and a target value, 50.\n",
    "loss = tf.square(tf.subtract(two_gate, 50.))\n",
    "\n",
    "# Initialize variables\n",
    "init = tf.initialize_all_variables()\n",
    "sess.run(init)\n",
    "\n",
    "# Declare optimizer\n",
    "my_opt = tf.train.GradientDescentOptimizer(0.01)\n",
    "train_step = my_opt.minimize(loss)"
   ]
  },
  {
   "cell_type": "code",
   "execution_count": 9,
   "metadata": {},
   "outputs": [
    {
     "name": "stdout",
     "output_type": "stream",
     "text": [
      "\n",
      "Optimizing Two Gate Output to 50.\n",
      "5.4 * 5.0 + 1.88 = 28.88\n",
      "7.512 * 5.0 + 2.3024 = 39.8624\n",
      "8.52576 * 5.0 + 2.5051522 = 45.133953\n",
      "9.012364 * 5.0 + 2.6024733 = 47.664295\n",
      "9.2459345 * 5.0 + 2.6491873 = 48.87886\n",
      "9.358048 * 5.0 + 2.67161 = 49.461853\n",
      "9.411863 * 5.0 + 2.682373 = 49.74169\n",
      "9.437695 * 5.0 + 2.687539 = 49.87601\n",
      "9.450093 * 5.0 + 2.690019 = 49.940483\n",
      "9.456045 * 5.0 + 2.6912093 = 49.971436\n",
      "9.458901 * 5.0 + 2.6917806 = 49.986286\n",
      "9.460273 * 5.0 + 2.6920547 = 49.99342\n",
      "9.460931 * 5.0 + 2.6921864 = 49.99684\n",
      "9.4612465 * 5.0 + 2.6922495 = 49.99848\n",
      "9.461398 * 5.0 + 2.6922798 = 49.99927\n"
     ]
    }
   ],
   "source": [
    "# Run loop across gate\n",
    "print('\\nOptimizing Two Gate Output to 50.')\n",
    "for i in range(15):\n",
    "    sess.run(train_step, feed_dict={x_data: x_val})\n",
    "    a_val, b_val = (sess.run(a), sess.run(b))\n",
    "    two_gate_output = sess.run(two_gate, feed_dict={x_data: x_val})\n",
    "    print(str(a_val) + ' * ' + str(x_val) + ' + ' + str(b_val) + ' = ' + str(two_gate_output))"
   ]
  },
  {
   "cell_type": "markdown",
   "metadata": {},
   "source": [
    "## Usage of activation functions in tensoflow\n",
    "<span class=\"math\">$$sidmoid(x) = \\frac{1}{1+e^x}$$</span>     \n",
    "\n",
    "\n",
    "<span class=\"math\">$$ReLU(x) = max(0,x)$$</span>"
   ]
  },
  {
   "cell_type": "code",
   "execution_count": 41,
   "metadata": {},
   "outputs": [],
   "source": [
    "import numpy as np\n",
    "import matplotlib.pyplot as plt\n",
    "sess = tf.Session()\n",
    "tf.set_random_seed(5)\n",
    "np.random.seed(42)"
   ]
  },
  {
   "cell_type": "code",
   "execution_count": 42,
   "metadata": {},
   "outputs": [],
   "source": [
    "batch_size = 50\n",
    "a1 = tf.Variable(tf.random_normal(shape=[1,1]))\n",
    "a2 = tf.Variable(tf.random_uniform(shape=[1,1]))\n",
    "b1 = tf.Variable(tf.random_normal(shape=[1,1]))\n",
    "b2 = tf.Variable(tf.random_uniform(shape=[1,1]))\n",
    "x = np.random.normal(2,0.1,500)\n",
    "x_data = tf.placeholder(shape=[None,1],dtype=tf.float32)"
   ]
  },
  {
   "cell_type": "code",
   "execution_count": 43,
   "metadata": {},
   "outputs": [],
   "source": [
    "sigmoid_activation = tf.sigmoid(tf.add(tf.matmul(x_data, a1),b1))\n",
    "relu_activation = tf.nn.relu(tf.add(tf.matmul(x_data,a2),b2))"
   ]
  },
  {
   "cell_type": "code",
   "execution_count": 44,
   "metadata": {},
   "outputs": [
    {
     "ename": "NameError",
     "evalue": "name 'ops' is not defined",
     "output_type": "error",
     "traceback": [
      "\u001b[0;31m---------------------------------------------------------------------------\u001b[0m",
      "\u001b[0;31mNameError\u001b[0m                                 Traceback (most recent call last)",
      "\u001b[0;32m<ipython-input-44-7f49605bb10d>\u001b[0m in \u001b[0;36m<module>\u001b[0;34m\u001b[0m\n\u001b[1;32m      1\u001b[0m \u001b[0mloss1\u001b[0m \u001b[0;34m=\u001b[0m \u001b[0mtf\u001b[0m\u001b[0;34m.\u001b[0m\u001b[0mreduce_mean\u001b[0m\u001b[0;34m(\u001b[0m\u001b[0mtf\u001b[0m\u001b[0;34m.\u001b[0m\u001b[0msquare\u001b[0m\u001b[0;34m(\u001b[0m\u001b[0mtf\u001b[0m\u001b[0;34m.\u001b[0m\u001b[0msubtract\u001b[0m\u001b[0;34m(\u001b[0m\u001b[0msigmoid_activation\u001b[0m\u001b[0;34m,\u001b[0m\u001b[0;36m0.75\u001b[0m\u001b[0;34m)\u001b[0m\u001b[0;34m)\u001b[0m\u001b[0;34m)\u001b[0m\u001b[0;34m\u001b[0m\u001b[0m\n\u001b[1;32m      2\u001b[0m \u001b[0mloss2\u001b[0m \u001b[0;34m=\u001b[0m \u001b[0mtf\u001b[0m\u001b[0;34m.\u001b[0m\u001b[0mreduce_mean\u001b[0m\u001b[0;34m(\u001b[0m\u001b[0mtf\u001b[0m\u001b[0;34m.\u001b[0m\u001b[0msquare\u001b[0m\u001b[0;34m(\u001b[0m\u001b[0mtf\u001b[0m\u001b[0;34m.\u001b[0m\u001b[0msubtract\u001b[0m\u001b[0;34m(\u001b[0m\u001b[0mrelu_activation\u001b[0m\u001b[0;34m,\u001b[0m\u001b[0;36m0.75\u001b[0m\u001b[0;34m)\u001b[0m\u001b[0;34m)\u001b[0m\u001b[0;34m)\u001b[0m\u001b[0;34m\u001b[0m\u001b[0m\n\u001b[0;32m----> 3\u001b[0;31m \u001b[0mops\u001b[0m\u001b[0;34m.\u001b[0m\u001b[0mreset_default_graph\u001b[0m\u001b[0;34m(\u001b[0m\u001b[0;34m)\u001b[0m\u001b[0;34m\u001b[0m\u001b[0m\n\u001b[0m",
      "\u001b[0;31mNameError\u001b[0m: name 'ops' is not defined"
     ]
    }
   ],
   "source": [
    "loss1 = tf.reduce_mean(tf.square(tf.subtract(sigmoid_activation,0.75)))\n",
    "loss2 = tf.reduce_mean(tf.square(tf.subtract(relu_activation,0.75)))\n",
    "ops.reset_default_graph()"
   ]
  },
  {
   "cell_type": "code",
   "execution_count": 45,
   "metadata": {},
   "outputs": [],
   "source": [
    "my_opt = tf.train.GradientDescentOptimizer(0.01)\n",
    "train_step_sigmoid = my_opt.minimize(loss1)\n",
    "train_step_relu = my_opt.minimize(loss2)\n",
    "init = tf.initialize_all_variables()\n",
    "sess.run(init)"
   ]
  },
  {
   "cell_type": "code",
   "execution_count": 46,
   "metadata": {},
   "outputs": [],
   "source": [
    "loss_vec_sigmoid = []\n",
    "loss_vec_relu = []\n",
    "activation_sigmoid = []\n",
    "activation_relu = []\n",
    "for i in range(750):\n",
    "    rand_indices = np.random.choice(len(x), size=batch_size)\n",
    "    x_vals = np.transpose([x[rand_indices]])\n",
    "    sess.run(train_step_sigmoid, feed_dict={x_data: x_vals})\n",
    "    sess.run(train_step_relu, feed_dict={x_data: x_vals})\n",
    "    loss_vec_sigmoid.append(sess.run(loss1, feed_dict={x_data: x_vals}))\n",
    "    loss_vec_relu.append(sess.run(loss2, feed_dict={x_data: x_vals}))\n",
    "    activation_sigmoid.append(np.mean(sess.run(sigmoid_activation,feed_dict={x_data: x_vals})))\n",
    "    activation_relu.append(np.mean(sess.run(relu_activation, feed_dict={x_data: x_vals})))"
   ]
  },
  {
   "cell_type": "code",
   "execution_count": 47,
   "metadata": {},
   "outputs": [
    {
     "data": {
      "image/png": "[encoded data removed]",
      "text/plain": [
       "<Figure size 432x288 with 1 Axes>"
      ]
     },
     "metadata": {
      "needs_background": "light"
     },
     "output_type": "display_data"
    },
    {
     "data": {
      "image/png": "[encoded data removed]",
      "text/plain": [
       "<Figure size 432x288 with 1 Axes>"
      ]
     },
     "metadata": {
      "needs_background": "light"
     },
     "output_type": "display_data"
    }
   ],
   "source": [
    "plt.plot(activation_sigmoid, 'k-', label='Sigmoid Activation')\n",
    "plt.plot(activation_relu, 'r--', label='Relu Activation')\n",
    "plt.ylim([0, 1.0])\n",
    "plt.title('Activation Outputs')\n",
    "plt.xlabel('Generation')\n",
    "plt.ylabel('Outputs')\n",
    "plt.legend(loc='upper right')\n",
    "plt.show()\n",
    "plt.plot(loss_vec_sigmoid, 'k-', label='Sigmoid Loss')\n",
    "plt.plot(loss_vec_relu, 'r--', label='Relu Loss')\n",
    "plt.ylim([0, 1.0])\n",
    "plt.title('Loss per Generation')\n",
    "plt.xlabel('Generation')\n",
    "plt.ylabel('Loss')\n",
    "plt.legend(loc='upper right')\n",
    "plt.show()"
   ]
  },
  {
   "cell_type": "markdown",
   "metadata": {},
   "source": [
    "| Activation Fuunction \t|      Advantages      \t|          Disadvantages         \t|\n",
    "|:--------------------:\t|:--------------------:\t|:------------------------------:\t|\n",
    "|        Sigmoid       \t| less extreme outputs \t|       slower convergence       \t|\n",
    "|         ReLu         \t|   Fast convergence   \t| extreme output values possible \t|"
   ]
  },
  {
   "cell_type": "markdown",
   "metadata": {},
   "source": []
  }
 ],
 "metadata": {
  "kernelspec": {
   "display_name": "Python 3",
   "language": "python",
   "name": "python3"
  },
  "language_info": {
   "codemirror_mode": {
    "name": "ipython",
    "version": 3
   },
   "file_extension": ".py",
   "mimetype": "text/x-python",
   "name": "python",
   "nbconvert_exporter": "python",
   "pygments_lexer": "ipython3",
   "version": "3.5.2"
  }
 },
 "nbformat": 4,
 "nbformat_minor": 2
}
