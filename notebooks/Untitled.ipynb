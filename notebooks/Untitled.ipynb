{
 "cells": [
  {
   "cell_type": "code",
   "execution_count": 2,
   "metadata": {},
   "outputs": [],
   "source": [
    "import pandas as pd\n"
   ]
  },
  {
   "cell_type": "code",
   "execution_count": 3,
   "metadata": {},
   "outputs": [],
   "source": [
    "df_training = pd.read_csv(\"../data/training.csv\")\n",
    "df_test = pd.read_csv(\"../data/test.csv\")\n",
    "df_lookup = pd.read_csv(\"../data/IdLookupTable.csv\")\n",
    "df_sample = pd.read_csv(\"../data/SampleSubmission.csv\")"
   ]
  },
  {
   "cell_type": "code",
   "execution_count": 4,
   "metadata": {},
   "outputs": [
    {
     "name": "stdout",
     "output_type": "stream",
     "text": [
      "<class 'pandas.core.frame.DataFrame'>\n",
      "RangeIndex: 1783 entries, 0 to 1782\n",
      "Data columns (total 2 columns):\n",
      "ImageId    1783 non-null int64\n",
      "Image      1783 non-null object\n",
      "dtypes: int64(1), object(1)\n",
      "memory usage: 27.9+ KB\n"
     ]
    }
   ],
   "source": [
    "df_test.info()\n"
   ]
  },
  {
   "cell_type": "code",
   "execution_count": 7,
   "metadata": {},
   "outputs": [
    {
     "data": {
      "text/plain": [
       "RowId          27124\n",
       "ImageId        27124\n",
       "FeatureName    27124\n",
       "Location           0\n",
       "dtype: int64"
      ]
     },
     "execution_count": 7,
     "metadata": {},
     "output_type": "execute_result"
    }
   ],
   "source": [
    "df_lookup.count()"
   ]
  },
  {
   "cell_type": "code",
   "execution_count": 6,
   "metadata": {},
   "outputs": [
    {
     "name": "stdout",
     "output_type": "stream",
     "text": [
      "<class 'pandas.core.frame.DataFrame'>\n",
      "RangeIndex: 7049 entries, 0 to 7048\n",
      "Data columns (total 31 columns):\n",
      "left_eye_center_x            7039 non-null float64\n",
      "left_eye_center_y            7039 non-null float64\n",
      "right_eye_center_x           7036 non-null float64\n",
      "right_eye_center_y           7036 non-null float64\n",
      "left_eye_inner_corner_x      2271 non-null float64\n",
      "left_eye_inner_corner_y      2271 non-null float64\n",
      "left_eye_outer_corner_x      2267 non-null float64\n",
      "left_eye_outer_corner_y      2267 non-null float64\n",
      "right_eye_inner_corner_x     2268 non-null float64\n",
      "right_eye_inner_corner_y     2268 non-null float64\n",
      "right_eye_outer_corner_x     2268 non-null float64\n",
      "right_eye_outer_corner_y     2268 non-null float64\n",
      "left_eyebrow_inner_end_x     2270 non-null float64\n",
      "left_eyebrow_inner_end_y     2270 non-null float64\n",
      "left_eyebrow_outer_end_x     2225 non-null float64\n",
      "left_eyebrow_outer_end_y     2225 non-null float64\n",
      "right_eyebrow_inner_end_x    2270 non-null float64\n",
      "right_eyebrow_inner_end_y    2270 non-null float64\n",
      "right_eyebrow_outer_end_x    2236 non-null float64\n",
      "right_eyebrow_outer_end_y    2236 non-null float64\n",
      "nose_tip_x                   7049 non-null float64\n",
      "nose_tip_y                   7049 non-null float64\n",
      "mouth_left_corner_x          2269 non-null float64\n",
      "mouth_left_corner_y          2269 non-null float64\n",
      "mouth_right_corner_x         2270 non-null float64\n",
      "mouth_right_corner_y         2270 non-null float64\n",
      "mouth_center_top_lip_x       2275 non-null float64\n",
      "mouth_center_top_lip_y       2275 non-null float64\n",
      "mouth_center_bottom_lip_x    7016 non-null float64\n",
      "mouth_center_bottom_lip_y    7016 non-null float64\n",
      "Image                        7049 non-null object\n",
      "dtypes: float64(30), object(1)\n",
      "memory usage: 1.7+ MB\n"
     ]
    }
   ],
   "source": [
    "df = df_training\n",
    "df.info()"
   ]
  },
  {
   "cell_type": "code",
   "execution_count": 8,
   "metadata": {},
   "outputs": [
    {
     "data": {
      "text/plain": [
       "left_eye_center_x            7039\n",
       "left_eye_center_y            7039\n",
       "right_eye_center_x           7036\n",
       "right_eye_center_y           7036\n",
       "left_eye_inner_corner_x      2271\n",
       "left_eye_inner_corner_y      2271\n",
       "left_eye_outer_corner_x      2267\n",
       "left_eye_outer_corner_y      2267\n",
       "right_eye_inner_corner_x     2268\n",
       "right_eye_inner_corner_y     2268\n",
       "right_eye_outer_corner_x     2268\n",
       "right_eye_outer_corner_y     2268\n",
       "left_eyebrow_inner_end_x     2270\n",
       "left_eyebrow_inner_end_y     2270\n",
       "left_eyebrow_outer_end_x     2225\n",
       "left_eyebrow_outer_end_y     2225\n",
       "right_eyebrow_inner_end_x    2270\n",
       "right_eyebrow_inner_end_y    2270\n",
       "right_eyebrow_outer_end_x    2236\n",
       "right_eyebrow_outer_end_y    2236\n",
       "nose_tip_x                   7049\n",
       "nose_tip_y                   7049\n",
       "mouth_left_corner_x          2269\n",
       "mouth_left_corner_y          2269\n",
       "mouth_right_corner_x         2270\n",
       "mouth_right_corner_y         2270\n",
       "mouth_center_top_lip_x       2275\n",
       "mouth_center_top_lip_y       2275\n",
       "mouth_center_bottom_lip_x    7016\n",
       "mouth_center_bottom_lip_y    7016\n",
       "Image                        7049\n",
       "dtype: int64"
      ]
     },
     "execution_count": 8,
     "metadata": {},
     "output_type": "execute_result"
    }
   ],
   "source": [
    "df.count()"
   ]
  },
  {
   "cell_type": "code",
   "execution_count": 10,
   "metadata": {},
   "outputs": [],
   "source": [
    "df = df.dropna()"
   ]
  },
  {
   "cell_type": "code",
   "execution_count": 11,
   "metadata": {},
   "outputs": [
    {
     "data": {
      "text/plain": [
       "left_eye_center_x            2140\n",
       "left_eye_center_y            2140\n",
       "right_eye_center_x           2140\n",
       "right_eye_center_y           2140\n",
       "left_eye_inner_corner_x      2140\n",
       "left_eye_inner_corner_y      2140\n",
       "left_eye_outer_corner_x      2140\n",
       "left_eye_outer_corner_y      2140\n",
       "right_eye_inner_corner_x     2140\n",
       "right_eye_inner_corner_y     2140\n",
       "right_eye_outer_corner_x     2140\n",
       "right_eye_outer_corner_y     2140\n",
       "left_eyebrow_inner_end_x     2140\n",
       "left_eyebrow_inner_end_y     2140\n",
       "left_eyebrow_outer_end_x     2140\n",
       "left_eyebrow_outer_end_y     2140\n",
       "right_eyebrow_inner_end_x    2140\n",
       "right_eyebrow_inner_end_y    2140\n",
       "right_eyebrow_outer_end_x    2140\n",
       "right_eyebrow_outer_end_y    2140\n",
       "nose_tip_x                   2140\n",
       "nose_tip_y                   2140\n",
       "mouth_left_corner_x          2140\n",
       "mouth_left_corner_y          2140\n",
       "mouth_right_corner_x         2140\n",
       "mouth_right_corner_y         2140\n",
       "mouth_center_top_lip_x       2140\n",
       "mouth_center_top_lip_y       2140\n",
       "mouth_center_bottom_lip_x    2140\n",
       "mouth_center_bottom_lip_y    2140\n",
       "Image                        2140\n",
       "dtype: int64"
      ]
     },
     "execution_count": 11,
     "metadata": {},
     "output_type": "execute_result"
    }
   ],
   "source": [
    "df.count()"
   ]
  },
  {
   "cell_type": "code",
   "execution_count": 21,
   "metadata": {},
   "outputs": [
    {
     "name": "stdout",
     "output_type": "stream",
     "text": [
      "<class 'pandas.core.frame.DataFrame'>\n",
      "RangeIndex: 27124 entries, 0 to 27123\n",
      "Data columns (total 2 columns):\n",
      "RowId       27124 non-null int64\n",
      "Location    27124 non-null int64\n",
      "dtypes: int64(2)\n",
      "memory usage: 423.9 KB\n"
     ]
    },
    {
     "data": {
      "text/plain": [
       "0       238 236 237 238 240 240 239 241 241 243 240 23...\n",
       "1       219 215 204 196 204 211 212 200 180 168 178 19...\n",
       "2       144 142 159 180 188 188 184 180 167 132 84 59 ...\n",
       "3       193 192 193 194 194 194 193 192 168 111 50 12 ...\n",
       "4       147 148 160 196 215 214 216 217 219 220 206 18...\n",
       "5       167 169 170 167 156 145 106 68 52 24 20 15 21 ...\n",
       "6       109 109 125 141 145 139 120 81 45 34 31 35 36 ...\n",
       "7       178 177 178 179 179 179 181 185 188 184 192 20...\n",
       "8       164 158 118 76 66 69 59 53 43 31 35 41 45 55 6...\n",
       "9       226 227 225 224 221 220 215 210 210 208 206 18...\n",
       "10      52 51 54 57 57 56 55 55 56 59 62 66 67 72 79 8...\n",
       "11      142 124 123 133 140 147 151 147 137 136 125 12...\n",
       "12      86 93 106 114 112 110 111 113 138 147 148 132 ...\n",
       "13      75 65 63 75 70 78 84 97 106 71 39 25 23 21 18 ...\n",
       "14      119 106 101 106 89 66 67 72 85 112 118 109 96 ...\n",
       "15      52 54 74 76 55 48 47 41 38 37 34 33 33 31 30 3...\n",
       "16      201 200 202 193 124 59 53 50 48 56 66 76 114 1...\n",
       "17      202 201 201 202 201 200 200 200 199 200 173 74...\n",
       "18      181 182 182 181 182 184 186 186 187 189 202 20...\n",
       "19      64 56 53 51 57 74 85 86 88 90 95 99 97 92 96 9...\n",
       "20      240 240 240 239 235 233 231 227 222 218 213 20...\n",
       "21      245 245 245 252 210 95 46 42 43 45 45 52 67 80...\n",
       "22      185 185 187 185 184 184 184 183 184 182 180 18...\n",
       "23      241 241 241 240 241 239 235 233 228 224 224 22...\n",
       "24      109 106 57 10 11 18 17 15 17 18 17 20 15 11 19...\n",
       "25      254 254 254 254 254 254 254 254 253 255 219 13...\n",
       "26      5 2 5 9 10 5 6 8 4 2 1 1 9 12 10 10 10 10 12 1...\n",
       "27      196 195 192 192 191 191 189 190 186 176 171 16...\n",
       "28      177 175 176 175 177 177 176 182 184 184 189 19...\n",
       "29      160 157 159 152 143 160 176 181 172 116 57 47 ...\n",
       "                              ...                        \n",
       "7019    66 60 81 68 66 49 41 61 104 97 77 91 84 90 76 ...\n",
       "7020    39 33 26 20 15 12 10 8 5 5 6 6 6 5 5 6 9 11 11...\n",
       "7021    75 75 76 77 78 81 86 93 103 106 107 117 131 15...\n",
       "7022    136 145 170 181 163 149 144 139 143 148 150 15...\n",
       "7023    152 149 139 129 105 81 73 67 69 80 88 91 94 83...\n",
       "7024    15 15 14 13 14 14 14 19 30 43 57 74 94 98 96 1...\n",
       "7025    47 47 47 47 46 46 47 44 41 44 46 47 47 45 44 4...\n",
       "7026    17 19 19 19 18 16 15 13 12 11 11 12 12 11 12 1...\n",
       "7027    28 28 26 25 24 26 37 38 42 46 50 53 54 58 67 7...\n",
       "7028    85 86 86 86 84 84 84 83 88 63 17 19 26 20 17 2...\n",
       "7029    17 17 17 17 17 17 17 17 17 21 20 17 15 15 20 2...\n",
       "7030    18 38 48 36 18 14 13 11 11 12 12 11 9 10 12 13...\n",
       "7031    8 15 20 16 12 10 11 19 30 43 55 63 68 65 62 59...\n",
       "7032    196 180 171 159 153 156 160 154 145 143 131 11...\n",
       "7033    146 142 153 168 133 54 22 35 49 61 61 69 82 81...\n",
       "7034    65 62 67 96 99 94 82 56 42 41 48 64 91 140 173...\n",
       "7035    155 157 159 157 157 159 161 159 153 146 139 13...\n",
       "7036    247 244 241 238 233 227 218 200 185 171 157 14...\n",
       "7037    242 244 247 226 212 226 237 248 251 253 254 25...\n",
       "7038    59 55 59 65 93 145 185 201 205 204 201 196 190...\n",
       "7039    43 49 57 67 81 98 97 94 91 94 97 101 96 91 88 ...\n",
       "7040    139 140 143 141 141 140 140 139 140 141 143 14...\n",
       "7041    164 165 167 168 169 170 172 171 170 171 173 16...\n",
       "7042    254 235 191 141 106 93 94 123 168 178 178 186 ...\n",
       "7043    150 150 132 63 44 74 86 61 62 57 44 70 93 115 ...\n",
       "7044    71 74 85 105 116 128 139 150 170 187 201 209 2...\n",
       "7045    60 60 62 57 55 51 49 48 50 53 56 56 106 89 77 ...\n",
       "7046    74 74 74 78 79 79 79 81 77 78 80 73 72 81 77 1...\n",
       "7047    254 254 254 254 254 238 193 145 121 118 119 10...\n",
       "7048    53 62 67 76 86 91 97 105 105 106 107 108 112 1...\n",
       "Name: Image, Length: 7049, dtype: object"
      ]
     },
     "execution_count": 21,
     "metadata": {},
     "output_type": "execute_result"
    }
   ],
   "source": [
    "df_sample.info()\n",
    "df.Image"
   ]
  }
 ],
 "metadata": {
  "kernelspec": {
   "display_name": "Python 3",
   "language": "python",
   "name": "python3"
  },
  "language_info": {
   "codemirror_mode": {
    "name": "ipython",
    "version": 3
   },
   "file_extension": ".py",
   "mimetype": "text/x-python",
   "name": "python",
   "nbconvert_exporter": "python",
   "pygments_lexer": "ipython3",
   "version": "3.5.2"
  }
 },
 "nbformat": 4,
 "nbformat_minor": 2
}
